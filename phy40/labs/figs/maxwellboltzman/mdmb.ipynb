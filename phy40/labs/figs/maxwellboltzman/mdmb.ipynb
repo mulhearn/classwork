{
 "cells": [
  {
   "cell_type": "code",
   "execution_count": 1,
   "metadata": {},
   "outputs": [
    {
     "name": "stdout",
     "output_type": "stream",
     "text": [
      "Populating the interactive namespace from numpy and matplotlib\n"
     ]
    }
   ],
   "source": [
    "%pylab inline"
   ]
  },
  {
   "cell_type": "code",
   "execution_count": 17,
   "metadata": {},
   "outputs": [],
   "source": [
    "def collide(ax, ay, bx, by, theta):\n",
    "    # your code here...\n",
    "    return ax, ay, bx, by    "
   ]
  },
  {
   "cell_type": "code",
   "execution_count": 19,
   "metadata": {},
   "outputs": [],
   "source": [
    "def collide(ax, ay, bx, by, theta):\n",
    "        ux  = (ax-bx)/2.0\n",
    "        uy  = (ay-by)/2.0\n",
    "        cs = cos(theta)\n",
    "        sn = sin(theta)\n",
    "        dax = (cs-1.0)*ux + sn*uy\n",
    "        day = (cs-1.0)*uy - sn*ux\n",
    "        dbx = -(cs-1.0)*ux - sn*uy\n",
    "        dby = -(cs-1.0)*uy + sn*ux\n",
    "        ax = ax + dax\n",
    "        ay = ay + day\n",
    "        bx = bx + dbx\n",
    "        by = by + dby\n",
    "        return ax, ay, bx, by    "
   ]
  },
  {
   "cell_type": "code",
   "execution_count": 20,
   "metadata": {},
   "outputs": [
    {
     "name": "stdout",
     "output_type": "stream",
     "text": [
      "[ 1.  0. -1.  0.]\n",
      "[ 0. -1. -0.  1.]\n",
      "[-1. -0.  1.  0.]\n",
      "[-0.  1.  0. -1.]\n"
     ]
    }
   ],
   "source": [
    "# lab frame is CMS, incoming on x axis, \n",
    "print(np.around(collide(1,0,-1,0,0)))\n",
    "print(np.around(collide(1,0,-1,0,np.pi/2.0)))\n",
    "print(np.around(collide(1,0,-1,0,np.pi)))\n",
    "print(np.around(collide(1,0,-1,0,3*np.pi/2)))"
   ]
  },
  {
   "cell_type": "code",
   "execution_count": 15,
   "metadata": {},
   "outputs": [
    {
     "name": "stdout",
     "output_type": "stream",
     "text": [
      "[ 0.  1.  0. -1.]\n",
      "[ 1.  0. -1. -0.]\n",
      "[ 0. -1. -0.  1.]\n",
      "[-1. -0.  1.  0.]\n"
     ]
    }
   ],
   "source": [
    "#lab frame is CMS, incoming on y axis\n",
    "print(np.around(collide(0,1,0,-1,0)))\n",
    "print(np.around(collide(0,1,0,-1,np.pi/2)))\n",
    "print(np.around(collide(0,1,0,-1,np.pi)))\n",
    "print(np.around(collide(0,1,0,-1,3*np.pi/2)))"
   ]
  },
  {
   "cell_type": "code",
   "execution_count": 14,
   "metadata": {},
   "outputs": [
    {
     "name": "stdout",
     "output_type": "stream",
     "text": [
      "[ 1.  1.  1. -1.]\n",
      "[ 2.  0.  0. -0.]\n",
      "[ 1. -1.  1.  1.]\n",
      "[ 0. -0.  2.  0.]\n"
     ]
    }
   ],
   "source": [
    "# boost on x axis, collide on y axis in CMS\n",
    "print(np.around(collide(1,1,1,-1,0)))\n",
    "print(np.around(collide(1,1,1,-1,np.pi/2)))\n",
    "print(np.around(collide(1,1,1,-1,np.pi)))\n",
    "print(np.around(collide(1,1,1,-1,3*np.pi/2)))"
   ]
  },
  {
   "cell_type": "code",
   "execution_count": 13,
   "metadata": {},
   "outputs": [
    {
     "name": "stdout",
     "output_type": "stream",
     "text": [
      "[ 1.2245  -1.43288  3.5755  -2.36712]\n",
      "[ 1.5543  -2.47771 12.6457  -6.32229]\n"
     ]
    }
   ],
   "source": [
    "# random collision\n",
    "print(np.around(collide(1.2,-2.3,3.6,-1.5,0.7),5))\n",
    "print(np.around(collide(6.2,1.4,8.0,-10.2,5.2),5))"
   ]
  },
  {
   "cell_type": "code",
   "execution_count": 4,
   "metadata": {},
   "outputs": [],
   "source": [
    "def calc_kt(vx, vy):\n",
    "    return M*(np.mean(vx**2) + np.mean(vy**2))/2\n",
    "\n",
    "def scale_v(vx, vy, kt):    \n",
    "    mykt = calc_kt(vx,vy)\n",
    "    scale = np.sqrt(kt/mykt)\n",
    "    vx  = scale*vx\n",
    "    vy  = scale*vy    \n",
    "    return vx, vy"
   ]
  },
  {
   "cell_type": "code",
   "execution_count": 25,
   "metadata": {},
   "outputs": [
    {
     "name": "stdout",
     "output_type": "stream",
     "text": [
      "initial kt:   3.000000000000001\n",
      "final kt:   3.0000000000000004\n"
     ]
    }
   ],
   "source": [
    "# simulation of collisions:\n",
    "NGAS  = 1000\n",
    "COLL  = 10000\n",
    "M     = 1\n",
    "KT    = 3\n",
    "\n",
    "vx = np.random.uniform(-3,3,size=NGAS)\n",
    "vy = np.random.uniform(-3,3,size=NGAS)\n",
    "vx,vy = scale_v(vx,vy, KT)\n",
    "print(\"initial kt:  \", calc_kt(vx,vy))\n",
    "\n",
    "for i in range(COLL):\n",
    "    pair = np.random.choice(NGAS,size=2,replace=False)\n",
    "    ia = pair[0]\n",
    "    ib = pair[1]\n",
    "    theta = np.random.uniform(0,2*np.pi)\n",
    "    vx[ia], vy[ia], vx[ib], vy[ib] \\\n",
    "    = collide(vx[ia], vy[ia], vx[ib], vy[ib], theta)         \n",
    "\n",
    "print(\"final kt:  \", calc_kt(vx, vy))"
   ]
  },
  {
   "cell_type": "code",
   "execution_count": 26,
   "metadata": {},
   "outputs": [
    {
     "data": {
      "text/plain": [
       "[<matplotlib.lines.Line2D at 0x7fd6fd3914f0>]"
      ]
     },
     "execution_count": 26,
     "metadata": {},
     "output_type": "execute_result"
    },
    {
     "data": {
      "image/png": "[encoded data removed]",
      "text/plain": [
       "<Figure size 432x288 with 2 Axes>"
      ]
     },
     "metadata": {
      "needs_background": "light"
     },
     "output_type": "display_data"
    }
   ],
   "source": [
    "from scipy import stats\n",
    "NBINS = 10\n",
    "MAXV  = 5\n",
    "\n",
    "kt = calc_kt(vx, vy)\n",
    "\n",
    "v  = np.sqrt(vx**2 + vy**2)\n",
    "hv,binsv  = np.histogram(v,bins=NBINS, range=(0,MAXV))\n",
    "hvx,binsvx = np.histogram(vx,bins=NBINS, range=(-MAXV,MAXV))\n",
    "hvy,binsvy = np.histogram(vy,bins=NBINS, range=(-MAXV,MAXV))\n",
    "\n",
    "# calculate the center of each bin:\n",
    "cbinsv = (binsv[1:]  + binsv[:-1])/2.0\n",
    "cbinsvx = (binsvx[1:] + binsvx[:-1])/2.0\n",
    "\n",
    "# calculate the Poisson uncertainty for each bin:\n",
    "huncv = np.sqrt(hv)\n",
    "huncvx = np.sqrt(hvx)\n",
    "huncvy = np.sqrt(hvy)\n",
    "\n",
    "fig, (ax1, ax2) = plt.subplots(1, 2)\n",
    "ax1.errorbar(cbinsv, hv, yerr=huncv, fmt=\"k.\", label=\"generated\")\n",
    "vf = np.linspace(0,5,200)\n",
    "yf = (vf/kt)*np.exp(-vf**2/(2*kt))*NGAS*(binsv[1]-binsv[0])\n",
    "ax1.plot(vf, yf)\n",
    "\n",
    "ax2.errorbar(cbinsvx, hvx, yerr=huncvx, fmt=\"r.\", label=\"vx\")\n",
    "ax2.errorbar(cbinsvx, hvy, yerr=huncvy, fmt=\"b.\", label=\"vy\")\n",
    "vxf = np.linspace(-5,5,200)\n",
    "yxf = stats.norm.pdf(vxf,scale=np.sqrt(kt))*NGAS*(binsvx[1]-binsvx[0])\n",
    "ax2.plot(vxf, yxf)"
   ]
  },
  {
   "cell_type": "code",
   "execution_count": null,
   "metadata": {},
   "outputs": [],
   "source": []
  },
  {
   "cell_type": "code",
   "execution_count": null,
   "metadata": {},
   "outputs": [],
   "source": []
  }
 ],
 "metadata": {
  "kernelspec": {
   "display_name": "Python 3",
   "language": "python",
   "name": "python3"
  },
  "language_info": {
   "codemirror_mode": {
    "name": "ipython",
    "version": 3
   },
   "file_extension": ".py",
   "mimetype": "text/x-python",
   "name": "python",
   "nbconvert_exporter": "python",
   "pygments_lexer": "ipython3",
   "version": "3.8.5"
  }
 },
 "nbformat": 4,
 "nbformat_minor": 2
}

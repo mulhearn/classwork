{
 "cells": [
  {
   "cell_type": "code",
   "execution_count": 1,
   "metadata": {},
   "outputs": [
    {
     "name": "stdout",
     "output_type": "stream",
     "text": [
      "Populating the interactive namespace from numpy and matplotlib\n"
     ]
    }
   ],
   "source": [
    "%pylab inline"
   ]
  },
  {
   "cell_type": "code",
   "execution_count": null,
   "metadata": {},
   "outputs": [],
   "source": [
    "TOFF_A = np.array([18.0,18.0,17.8,17.8,18.0]) # ns\n",
    "TOFF_B = np.array([18.2,18.0,18.0,18.0,18.0]) # ns                "
   ]
  },
  {
   "cell_type": "code",
   "execution_count": 79,
   "metadata": {},
   "outputs": [
    {
     "name": "stdout",
     "output_type": "stream",
     "text": [
      "0.9776177000257262\n"
     ]
    }
   ],
   "source": [
    "print(0.76/(20.6 - 18.0)*10/2.99)"
   ]
  },
  {
   "cell_type": "code",
   "execution_count": 80,
   "metadata": {},
   "outputs": [
    {
     "name": "stdout",
     "output_type": "stream",
     "text": [
      "tz:   13.466666666666667\n"
     ]
    }
   ],
   "source": [
    "TZ = np.mean([13.6,13.4,13.4])\n",
    "D = 0\n",
    "print(\"tz:  \", TZ)"
   ]
  },
  {
   "cell_type": "code",
   "execution_count": 135,
   "metadata": {},
   "outputs": [
    {
     "name": "stdout",
     "output_type": "stream",
     "text": [
      "4.03846153846154 +/- 0.4659763313609472\n",
      "70 , 15.2\n"
     ]
    }
   ],
   "source": [
    "T=np.mean([15.2]) # res: 0.2 scale # 5 ns\n",
    "D = 34+36\n",
    "DT = T - TZ\n",
    "cmeas = D / DT /10 \n",
    "unc = (0.2/DT)*cmeas\n",
    "print(cmeas, \"+/-\", unc)\n",
    "print(D,\",\",T)"
   ]
  },
  {
   "cell_type": "code",
   "execution_count": 138,
   "metadata": {},
   "outputs": [
    {
     "name": "stdout",
     "output_type": "stream",
     "text": [
      "3.6071428571428585 +/- 0.25765306122449005\n",
      "101 , 16.266666666666666\n"
     ]
    }
   ],
   "source": [
    "T=np.mean([16.4,16.2,16.2]) # res: 0.2 scale # 5 ns\n",
    "D = 101\n",
    "DT = T - TZ\n",
    "cmeas = D / DT /10 \n",
    "unc = (0.2/DT)*cmeas\n",
    "print(cmeas, \"+/-\", unc)\n",
    "print(D,\",\",T)"
   ]
  },
  {
   "cell_type": "code",
   "execution_count": 139,
   "metadata": {},
   "outputs": [
    {
     "name": "stdout",
     "output_type": "stream",
     "text": [
      "2.725609756097561 +/- 0.09971743010113027\n",
      "149 , 18.933333333333334\n"
     ]
    }
   ],
   "source": [
    "T=np.mean([19.0,18.6,19.2]) # res: 0.2 scale # 5 ns\n",
    "D = 149\n",
    "DT = T - TZ\n",
    "cmeas = D / DT /10 \n",
    "unc = (0.2/DT)*cmeas\n",
    "print(cmeas, \"+/-\", unc)\n",
    "print(D,\",\",T)\n",
    "D = 75+74"
   ]
  },
  {
   "cell_type": "code",
   "execution_count": 140,
   "metadata": {},
   "outputs": [
    {
     "name": "stdout",
     "output_type": "stream",
     "text": [
      "2.9925742574257432 +/- 0.0888883442799726\n",
      "201.5 , 20.2\n"
     ]
    }
   ],
   "source": [
    "T=np.mean([20.2]) # res: 0.2 scale # 5 ns\n",
    "D = 201.5\n",
    "DT = T - TZ\n",
    "cmeas = D / DT /10 \n",
    "unc = (0.2/DT)*cmeas\n",
    "print(cmeas, \"+/-\", unc)\n",
    "print(D,\",\",T)\n",
    "D = 75+74"
   ]
  },
  {
   "cell_type": "markdown",
   "metadata": {},
   "source": [
    "#### After tightening, may have to nudge.\n",
    "#"
   ]
  },
  {
   "cell_type": "code",
   "execution_count": 150,
   "metadata": {},
   "outputs": [
    {
     "name": "stdout",
     "output_type": "stream",
     "text": [
      "mfit 0.03510577667282633  +/- 0.0013043286992656322\n",
      "cfit 2.848534044182111  +/- 0.10583513759824756\n"
     ]
    },
    {
     "data": {
      "image/png": "[encoded data removed]",
      "text/plain": [
       "<Figure size 432x288 with 1 Axes>"
      ]
     },
     "metadata": {
      "needs_background": "light"
     },
     "output_type": "display_data"
    }
   ],
   "source": [
    "def linear_func(x, a, b):\n",
    "    return a*x + b\n",
    "\n",
    "tunc = 0.2\n",
    "d  = np.array([0,    70,   101,   149, 201.5])\n",
    "t  = np.array([13.5, 15.2, 16.2, 18.9, 20.2])\n",
    "sigma = np.full(size(t), tunc) \n",
    "plt.errorbar(d,t,yerr=tunc,fmt=\"ko\",label=\"data\")\n",
    "\n",
    "guess_a = 0.5\n",
    "guess_b = 0.0\n",
    "#par, cov = optimize.curve_fit(linear_func, d,t,p0=[guess_a, guess_b])\n",
    "par, cov = optimize.curve_fit(linear_func, d,t,sigma=sigma,absolute_sigma=True,p0=[guess_a, guess_b])\n",
    "\n",
    "mfit = par[0]\n",
    "bfit = par[1]\n",
    "munc = sqrt(diag(cov))[0]\n",
    "\n",
    "cfit = 1.0/mfit/10.0\n",
    "cunc = cfit*(munc/mfit)\n",
    "print(\"mfit\", mfit, \" +/-\", munc)\n",
    "print(\"cfit\", cfit, \" +/-\", cunc)\n",
    "xf = np.linspace(0.0,200.0,50)\n",
    "yf = linear_func(x, mfit, bfit)\n",
    "plt.plot(xf,yf,\"b--\",label=\"linear fit\")\n",
    "plt.xlabel(\"d (cm)\")\n",
    "plt.ylabel(\"t (ns)\")\n",
    "\n",
    "plt.text(1.51, 20, \"Physics 80 - Preliminary\")\n",
    "np.set_printoptions(precision=3)\n",
    "plt.text(1.51, 19.5, \"c measured:    \"+str(format(cfit, '.2f'))+\" +/- \"+str(format(cunc, '.2f'))+ \" (stat)\")\n",
    "plt.legend(loc=4)\n",
    "plt.savefig(\"cfit.pdf\")"
   ]
  },
  {
   "cell_type": "code",
   "execution_count": null,
   "metadata": {},
   "outputs": [],
   "source": []
  }
 ],
 "metadata": {
  "kernelspec": {
   "display_name": "Python 3",
   "language": "python",
   "name": "python3"
  },
  "language_info": {
   "codemirror_mode": {
    "name": "ipython",
    "version": 3
   },
   "file_extension": ".py",
   "mimetype": "text/x-python",
   "name": "python",
   "nbconvert_exporter": "python",
   "pygments_lexer": "ipython3",
   "version": "3.7.0"
  }
 },
 "nbformat": 4,
 "nbformat_minor": 2
}

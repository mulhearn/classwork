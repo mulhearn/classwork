{
 "metadata": {
  "name": "",
  "signature": "sha256:34bbe1e33e4bc32dd80b05600a7034d53899edcf6e9b60e86a771ed3d3d6b7c4"
 },
 "nbformat": 3,
 "nbformat_minor": 0,
 "worksheets": [
  {
   "cells": [
    {
     "cell_type": "code",
     "collapsed": false,
     "input": [
      "%pylab inline"
     ],
     "language": "python",
     "metadata": {},
     "outputs": [
      {
       "output_type": "stream",
       "stream": "stdout",
       "text": [
        "Populating the interactive namespace from numpy and matplotlib\n"
       ]
      }
     ],
     "prompt_number": 1
    },
    {
     "cell_type": "code",
     "collapsed": false,
     "input": [
      "# data to plot\n",
      "n_data = 4\n",
      "\n",
      "x = np.arange(n_data)\n",
      "series_a = (5, 5, 5, 5)\n",
      "series_b = (1, 2, 14, 3)\n",
      " \n",
      "# create plot\n",
      "fig, ax = plt.subplots()\n",
      "index = np.arange(n_data)\n",
      "bar_width = 0.35\n",
      "opacity = 0.8\n",
      " \n",
      "rects1 = plt.bar(x, series_a, bar_width,\n",
      "                 color='r',\n",
      "                 label='prediction')\n",
      " \n",
      "rects2 = plt.bar(x + bar_width, series_b, bar_width,\n",
      "                 color='b',\n",
      "                 label='data')\n",
      " \n",
      "plt.xlabel('Outcome')\n",
      "plt.ylabel('Occurances')\n",
      "plt.xticks(index + bar_width, ('1', '2', '3', '4'))\n",
      "plt.legend()\n",
      " \n",
      "plt.ylim(0,20)\n",
      "plt.tight_layout()\n",
      "plt.savefig(\"pred.pdf\")"
     ],
     "language": "python",
     "metadata": {},
     "outputs": [
      {
       "metadata": {},
       "output_type": "display_data",
       "png": "[encoded data removed]",
       "text": [
        "<matplotlib.figure.Figure at 0x111111c50>"
       ]
      }
     ],
     "prompt_number": 5
    },
    {
     "cell_type": "code",
     "collapsed": false,
     "input": [],
     "language": "python",
     "metadata": {},
     "outputs": []
    }
   ],
   "metadata": {}
  }
 ]
}
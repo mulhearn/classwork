{
 "cells": [
  {
   "cell_type": "code",
   "execution_count": 2,
   "metadata": {
    "collapsed": false
   },
   "outputs": [
    {
     "name": "stdout",
     "output_type": "stream",
     "text": [
      "Populating the interactive namespace from numpy and matplotlib\n"
     ]
    }
   ],
   "source": [
    "%pylab inline\n",
    "\n",
    "from matplotlib import rc\n",
    "rc('font',**{'family':'sans-serif','sans-serif':['Helvetica']})\n",
    "## for Palatino and other serif fonts use:\n",
    "#rc('font',**{'family':'serif','serif':['Palatino']})\n",
    "rc('text', usetex=True)"
   ]
  },
  {
   "cell_type": "code",
   "execution_count": 25,
   "metadata": {
    "collapsed": false
   },
   "outputs": [
    {
     "data": {
      "image/png": "[encoded data removed]",
      "text/plain": [
       "<matplotlib.figure.Figure at 0x109cb48d0>"
      ]
     },
     "metadata": {},
     "output_type": "display_data"
    }
   ],
   "source": [
    "from scipy.integrate import quad\n",
    "    \n",
    "x = np.linspace(-np.pi, np.pi, 1000)\n",
    "\n",
    "def fa(x):\n",
    "    return (1+cos(x))/2.0\n",
    "def fb(x):\n",
    "    return fa(x)**10\n",
    "def fc(x):\n",
    "    return fa(x)**100\n",
    "\n",
    "ha = np.array([])\n",
    "hb = np.array([])\n",
    "hc = np.array([])\n",
    "\n",
    "na = quad(fa,-3.1415,3.1415)\n",
    "nb = quad(fb,-3.1415,3.1415)\n",
    "nc = quad(fc,-3.1415,3.1415)\n",
    "\n",
    "for i in range(len(x)):\n",
    "    ha = np.append(ha, fa(x[i])/na[0])\n",
    "    hb = np.append(hb, fb(x[i])/nb[0])\n",
    "    hc = np.append(hc, fc(x[i])/nc[0])\n",
    "\n",
    "xlabel(\"x\")\n",
    "#ylabel(r'h_k')\n",
    "plot(x,ha,\"b\", label=\"k=1\")\n",
    "plot(x,hb,\"g\", label=\"k=10\")\n",
    "plot(x,hc,\"r\", label=\"k=500\")\n",
    "legend()\n",
    "\n",
    "savefig(\"hk.png\")\n",
    "\n"
   ]
  },
  {
   "cell_type": "code",
   "execution_count": null,
   "metadata": {
    "collapsed": true
   },
   "outputs": [],
   "source": []
  },
  {
   "cell_type": "code",
   "execution_count": null,
   "metadata": {
    "collapsed": true
   },
   "outputs": [],
   "source": []
  }
 ],
 "metadata": {
  "kernelspec": {
   "display_name": "Python 2",
   "language": "python",
   "name": "python2"
  },
  "language_info": {
   "codemirror_mode": {
    "name": "ipython",
    "version": 2
   },
   "file_extension": ".py",
   "mimetype": "text/x-python",
   "name": "python",
   "nbconvert_exporter": "python",
   "pygments_lexer": "ipython2",
   "version": "2.7.9"
  }
 },
 "nbformat": 4,
 "nbformat_minor": 0
}

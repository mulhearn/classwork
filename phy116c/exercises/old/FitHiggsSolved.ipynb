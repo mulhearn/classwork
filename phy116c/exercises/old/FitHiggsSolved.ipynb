{
 "cells": [
  {
   "cell_type": "code",
   "execution_count": 1,
   "metadata": {
    "collapsed": false
   },
   "outputs": [
    {
     "name": "stdout",
     "output_type": "stream",
     "text": [
      "Populating the interactive namespace from numpy and matplotlib\n"
     ]
    }
   ],
   "source": [
    "%pylab inline"
   ]
  },
  {
   "cell_type": "code",
   "execution_count": 2,
   "metadata": {
    "collapsed": false
   },
   "outputs": [
    {
     "name": "stdout",
     "output_type": "stream",
     "text": [
      "a:   12.7109147811 +/- 2.34133542141\n",
      "b:   2.45637574997 +/- 0.00224444714424\n"
     ]
    },
    {
     "data": {
      "image/png": "[encoded data removed]",
      "text/plain": [
       "<matplotlib.figure.Figure at 0x1086d2810>"
      ]
     },
     "metadata": {},
     "output_type": "display_data"
    }
   ],
   "source": [
    "from scipy.optimize import curve_fit\n",
    "sigma = 8\n",
    "true_a = 13.2\n",
    "true_b = 2.5\n",
    "\n",
    "# this is the function we want to fit to the data:\n",
    "def func(x, a, b):\n",
    "    return a*np.sin(b*x)\n",
    "\n",
    "# here we make \"fake\" data for fitting by calculating the function and adding some Gaussian noise\n",
    "x  = np.linspace(0,4,50)    # this is the range in x, sampled by 50 data points\n",
    "y  = func(x, true_a, true_b) # this is the \"true\" calculated value of y at each x point\n",
    "yn = y + sigma*np.random.normal(size=len(x)) # this adds a noise factor (gaussian with width sigma) to simulator measurement error.\n",
    "sy = zeros(50) + sigma;       # this is the uncertainty on each y measurement (sigma)\n",
    "yn = y + sigma*np.random.normal(size=len(x))\n",
    "errorbar(x,yn, sy, color=\"black\", fmt=\"o\")\n",
    "\n",
    "# this is the curve fitting step:\n",
    "approx = [10, 2]   # this is our initial guess for the parameters\n",
    "# now we perform a least squared fit of the function func to the data (x,yn+/-sy)\n",
    "popt, pcov = curve_fit(func, x, yn, p0=approx, sigma=sy)  \n",
    "\n",
    "# Plot the fitted value of the function\n",
    "yfit =func(x, popt[0], popt[1])\n",
    "plot(x,yfit, \"b\")\n",
    "\n",
    "# Compare to the \"true\" value:\n",
    "ytrue =func(x, true_a, true_b)\n",
    "plot(x,ytrue, \"r\", linestyle=\"--\")\n",
    "\n",
    "# Report fitted parameters:\n",
    "print \"a:  \", popt[0], \"+/-\", pcov[0][0]\n",
    "print \"b:  \", popt[1], \"+/-\", pcov[1][1]\n",
    "\n"
   ]
  },
  {
   "cell_type": "code",
   "execution_count": 78,
   "metadata": {
    "collapsed": false
   },
   "outputs": [
    {
     "name": "stdout",
     "output_type": "stream",
     "text": [
      "a:   7694.44729008 +/- 32.6217626453\n",
      "b:   49.8795270161 +/- 0.1825489112\n",
      "c:   4632.54455769 +/- 245.582593464\n",
      "d:   123.030348972 +/- 0.197627601576\n",
      "e:   3.39607918457 +/- 0.194336147422\n"
     ]
    },
    {
     "data": {
      "image/png": "[encoded data removed]",
      "text/plain": [
       "<matplotlib.figure.Figure at 0x109494210>"
      ]
     },
     "metadata": {},
     "output_type": "display_data"
    }
   ],
   "source": [
    "# Exercise:  Find the Higgs Boson!  (To be discussed in class)\n",
    "\n",
    "from scipy.stats import norm\n",
    "\n",
    "import itertools\n",
    "true_mh    = 125\n",
    "res_mh     = 3\n",
    "bkg_lambda = 50\n",
    "\n",
    "sig = random.normal(true_mh,res_mh, 1000)\n",
    "bkg = random.exponential(bkg_lambda, 100000)\n",
    "mgg = []\n",
    "for x in itertools.chain(sig, bkg):\n",
    "    mgg.append(x)\n",
    "h,xe = histogram(mgg, 50, (0.0, 200.0))\n",
    "\n",
    "plot(xe, append(h,0), drawstyle='steps-post')\n",
    "\n",
    "\n",
    "\n",
    "def func(x, a,b,c,d,e):\n",
    "    return a*exp(-x/b)+c*norm.pdf(x,d,e)\n",
    "\n",
    "a = 7640\n",
    "b = 50.0\n",
    "c = 3000\n",
    "d = 125\n",
    "e = 3\n",
    "\n",
    "\n",
    "sig = sqrt(append(h,10000000.0))\n",
    "#print h\n",
    "#print sig\n",
    "popt, pcov = curve_fit(func, xe, append(h,0), p0=[a,b,c,d,e], sigma=sig)\n",
    "                       \n",
    "xfit =np.linspace(0,200) \n",
    "yfit =func(xfit, popt[0], popt[1], popt[2],popt[3], popt[4])\n",
    "plot(xfit,yfit, \"r\")\n",
    "\n",
    "#Report fitted parameters:\n",
    "print \"a:  \", popt[0], \"+/-\", sqrt(pcov[0][0])\n",
    "print \"b:  \", popt[1], \"+/-\", sqrt(pcov[1][1])\n",
    "print \"c:  \", popt[2], \"+/-\", sqrt(pcov[2][2])\n",
    "print \"d:  \", popt[3], \"+/-\", sqrt(pcov[3][3])\n",
    "print \"e:  \", popt[4], \"+/-\", sqrt(pcov[4][4])\n",
    "\n",
    "\n",
    "\n"
   ]
  },
  {
   "cell_type": "code",
   "execution_count": null,
   "metadata": {
    "collapsed": false
   },
   "outputs": [],
   "source": []
  },
  {
   "cell_type": "code",
   "execution_count": null,
   "metadata": {
    "collapsed": true
   },
   "outputs": [],
   "source": []
  }
 ],
 "metadata": {
  "kernelspec": {
   "display_name": "Python 2",
   "language": "python",
   "name": "python2"
  },
  "language_info": {
   "codemirror_mode": {
    "name": "ipython",
    "version": 2
   },
   "file_extension": ".py",
   "mimetype": "text/x-python",
   "name": "python",
   "nbconvert_exporter": "python",
   "pygments_lexer": "ipython2",
   "version": "2.7.9"
  }
 },
 "nbformat": 4,
 "nbformat_minor": 0
}

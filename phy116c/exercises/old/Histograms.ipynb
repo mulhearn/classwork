{
 "cells": [
  {
   "cell_type": "code",
   "execution_count": null,
   "metadata": {
    "collapsed": true
   },
   "outputs": [],
   "source": [
    "# Additional documentation on scipy treatment of normal and poisson distributions is here:\n",
    "# http://docs.scipy.org/doc/scipy-0.13.0/reference/generated/scipy.stats.poisson.html\n",
    "# http://docs.scipy.org/doc/scipy-0.13.0/reference/generated/scipy.stats.norm.html"
   ]
  },
  {
   "cell_type": "code",
   "execution_count": 1,
   "metadata": {
    "collapsed": false
   },
   "outputs": [
    {
     "name": "stdout",
     "output_type": "stream",
     "text": [
      "Populating the interactive namespace from numpy and matplotlib\n"
     ]
    }
   ],
   "source": [
    "%pylab inline"
   ]
  },
  {
   "cell_type": "code",
   "execution_count": 6,
   "metadata": {
    "collapsed": false
   },
   "outputs": [
    {
     "data": {
      "text/plain": [
       "[<matplotlib.lines.Line2D at 0x10a2cb310>]"
      ]
     },
     "execution_count": 6,
     "metadata": {},
     "output_type": "execute_result"
    },
    {
     "data": {
      "image/png": "[encoded data removed]",
      "text/plain": [
       "<matplotlib.figure.Figure at 0x109d6c990>"
      ]
     },
     "metadata": {},
     "output_type": "display_data"
    }
   ],
   "source": [
    "# ================================================\n",
    "# The Normal Distribution, and Histogram Plotting\n",
    "# ================================================\n",
    "\n",
    "NUM   = 100000\n",
    "NBINS = 50\n",
    "XMAX  = 10.0\n",
    "XMIN  = 0.0\n",
    "\n",
    "# define an array xa containing 1000 values randomly distributed according to a\n",
    "#  Gaussian distribution with mean 5.0 and sigma 2.0:\n",
    "xa = random.normal(5.0, 2.0, NUM);\n",
    "\n",
    "# calculate a histogram (ha) with bin edges (xea) from the array xa, with 50 bins\n",
    "# in range 0.0 to 10.0: \n",
    "ha,xea = histogram(xa, NBINS, (XMIN, XMAX))\n",
    "\n",
    "# plot histogram as an outline.  Note that the append(h,0) below appends a dummy\n",
    "# entry with value 0 to h, so that the first two arguments have same number\n",
    "# of entries.  (The steps-post style does not use this dummy value).  \n",
    "plot(xea, append(ha,0), drawstyle='steps-post')"
   ]
  },
  {
   "cell_type": "code",
   "execution_count": 7,
   "metadata": {
    "collapsed": false
   },
   "outputs": [
    {
     "data": {
      "text/plain": [
       "[<matplotlib.lines.Line2D at 0x10a2f7850>]"
      ]
     },
     "execution_count": 7,
     "metadata": {},
     "output_type": "execute_result"
    },
    {
     "data": {
      "image/png": "[encoded data removed]",
      "text/plain": [
       "<matplotlib.figure.Figure at 0x10a2f7d10>"
      ]
     },
     "metadata": {},
     "output_type": "display_data"
    }
   ],
   "source": [
    "# alternate form of plot (preferred):\n",
    "# show value and error for each bin at bin center.\n",
    "# errorbars are displayed as sqrt(n) as is the usual convention (valid for large n).\n",
    "errorbar((xea[:-1]+xea[1:])/2., ha, sqrt(ha), fmt=\"bo\")\n",
    "\n",
    "# import the normal distribution class:\n",
    "from scipy.stats import norm\n",
    "\n",
    "# declare a linear space to use a range for normal distribution\n",
    "xb = linspace(XMIN,XMAX,100);\n",
    "\n",
    "# calculate a scale factor:\n",
    "# DO NOT JUST USE TRIAL AND ERROR, YOU MUST CALCULATE IT!\n",
    "scale = NUM * (XMAX-XMIN) / NBINS\n",
    "\n",
    "# set y to the Gaussian distribution probability distribution function times a scale factor\n",
    "yb = scale * norm.pdf(xb, 5.0, 2.0)\n",
    "\n",
    "# plot the Gaussian function to compare with the above:\n",
    "plot(xb,yb,\"r\")\n",
    "\n",
    "# Exercise 1: The scale factor 100 was chosen arbitrarily.  Keeping in mind that\n",
    "# the Gaussian pdf is normalized to 1 already, calculate the correct scale\n",
    "# factor to make the Guassian function agree with the histogram.\n",
    "\n",
    "# Exercise 2: Increase the number of events genenerated from 1000\n",
    "# to 100,000 and repeat.  (You can just change the value above and \n",
    "# rerun your notebook, no need to keep both versions around)"
   ]
  },
  {
   "cell_type": "code",
   "execution_count": null,
   "metadata": {
    "collapsed": true
   },
   "outputs": [],
   "source": [
    "# Exercise 1: The scale factor 100 was chosen arbitrarily.  Keeping in mind that\n",
    "# the Gaussian pdf is normalized to 1 already, calculate the correct scale\n",
    "# factor to make the Guassian function agree with the histogram.\n",
    "\n",
    "# Exercise 2: Increase the number of events genenerated from 1000\n",
    "# to 100,000 and repeat.  (You can just change the value above and \n",
    "# rerun your notebook, no need to keep both versions around)\n",
    "\n"
   ]
  },
  {
   "cell_type": "code",
   "execution_count": 66,
   "metadata": {
    "collapsed": false
   },
   "outputs": [
    {
     "data": {
      "text/plain": [
       "<Container object of 3 artists>"
      ]
     },
     "execution_count": 66,
     "metadata": {},
     "output_type": "execute_result"
    },
    {
     "data": {
      "image/png": "[encoded data removed]",
      "text/plain": [
       "<matplotlib.figure.Figure at 0x1111a8710>"
      ]
     },
     "metadata": {},
     "output_type": "display_data"
    }
   ],
   "source": [
    "# ============================\n",
    "# The Central Limit Theorem\n",
    "# ============================\n",
    "\n",
    "# The Central Limit Theorem says that the sum of many random variables drawn\n",
    "# from *any* random distribution tends toward the Gaussian distribution.  In\n",
    "# this example, we add 100 random variables which are distributed uniformly (a\n",
    "# flat distribution) between 0.0 and and 1.0.\n",
    "\n",
    "# initialize an array of length 1000 with each value set to zero:\n",
    "xb = zeros(1000)\n",
    "\n",
    "# Loop 100 times, adding a random number\n",
    "for i in range(0,10):\n",
    "    xb = xb + random.rand(1000)\n",
    "\n",
    "# Exercise 3: Plot a histogram from the final values of \"x\".  Does it look\n",
    "# Gaussian?  Superimpose an appropriately choosen Gaussian for comparison.\n",
    "\n",
    "hb,xeb = histogram(xb, 20, (0.0, 20.))\n",
    "errorbar((xeb[:-1]+xeb[1:])/2., hb, sqrt(hb), fmt=\"bo\")\n",
    "\n",
    "#xc = linspace(0.0,200.0,200)\n",
    "#scale = 1000 * (100.0 / 100.0)\n",
    "#yc = scale * norm.pdf(xc, 100.0, 0.5*sqrt(200))\n",
    "\n",
    "# plot the Gaussian function to compare with the above:\n",
    "#plot(xc,yc,\"r\")\n"
   ]
  },
  {
   "cell_type": "code",
   "execution_count": 51,
   "metadata": {
    "collapsed": false
   },
   "outputs": [
    {
     "data": {
      "text/plain": [
       "[<matplotlib.lines.Line2D at 0x10ee7bd90>]"
      ]
     },
     "execution_count": 51,
     "metadata": {},
     "output_type": "execute_result"
    },
    {
     "data": {
      "image/png": "[encoded data removed]",
      "text/plain": [
       "<matplotlib.figure.Figure at 0x10e0eee10>"
      ]
     },
     "metadata": {},
     "output_type": "display_data"
    }
   ],
   "source": [
    "# ===============================\n",
    "# The Poisson Distribution\n",
    "# ===============================\n",
    "\n",
    "# import the poisson class:\n",
    "from scipy.stats import poisson\n",
    "\n",
    "# set x to the array of natural numbers [0,1,2,...,25]\n",
    "xd = range(0,25)\n",
    "\n",
    "# set y1 to the Poisson \"mass\" function (some authors use probability mass\n",
    "# function instead of probability density function when the variable is\n",
    "# discrete) with a Poisson mean of 1.0 at each value of x:\n",
    "y1 = poisson.pmf(xd, 1.0)\n",
    "\n",
    "# plot the results with red circles at each point:\n",
    "plot(xd,y1,\"r\")\n",
    "\n",
    "\n",
    "# Exercise 4: On the same plot, draw the poisson distributions for a mean of 5.0\n",
    "# and 10.0 using new colors (e.g. \"b\" and \"g\").  Does the distribution look\n",
    "# Gaussian?  Plot an appropriately choosen Gaussian to compare with the Poisson\n",
    "# distribution with a mean of 10.0.\n"
   ]
  },
  {
   "cell_type": "code",
   "execution_count": null,
   "metadata": {
    "collapsed": true
   },
   "outputs": [],
   "source": []
  }
 ],
 "metadata": {
  "kernelspec": {
   "display_name": "Python 2",
   "language": "python",
   "name": "python2"
  },
  "language_info": {
   "codemirror_mode": {
    "name": "ipython",
    "version": 2
   },
   "file_extension": ".py",
   "mimetype": "text/x-python",
   "name": "python",
   "nbconvert_exporter": "python",
   "pygments_lexer": "ipython2",
   "version": "2.7.9"
  }
 },
 "nbformat": 4,
 "nbformat_minor": 0
}

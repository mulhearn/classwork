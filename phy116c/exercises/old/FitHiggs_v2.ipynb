{
 "metadata": {
  "kernelspec": {
   "display_name": "Python 2",
   "language": "python",
   "name": "python2"
  },
  "language_info": {
   "codemirror_mode": {
    "name": "ipython",
    "version": 2
   },
   "file_extension": ".py",
   "mimetype": "text/x-python",
   "name": "python",
   "nbconvert_exporter": "python",
   "pygments_lexer": "ipython2",
   "version": "2.7.9"
  },
  "name": ""
 },
 "nbformat": 3,
 "nbformat_minor": 0,
 "worksheets": [
  {
   "cells": [
    {
     "cell_type": "code",
     "collapsed": false,
     "input": [
      "%pylab inline"
     ],
     "language": "python",
     "metadata": {},
     "outputs": [
      {
       "output_type": "stream",
       "stream": "stdout",
       "text": [
        "Populating the interactive namespace from numpy and matplotlib\n"
       ]
      }
     ],
     "prompt_number": 2
    },
    {
     "cell_type": "code",
     "collapsed": false,
     "input": [
      "from scipy.optimize import curve_fit\n",
      "sigma = 8\n",
      "true_a = 13.2\n",
      "true_b = 2.5\n",
      "\n",
      "# this is the function we want to fit to the data:\n",
      "def func(x, a, b):\n",
      "    return a*np.sin(b*x)\n",
      "\n",
      "# here we make \"fake\" data for fitting by calculating the function and adding some Gaussian noise\n",
      "x  = np.linspace(0,4,50)    # this is the range in x, sampled by 50 data points\n",
      "y  = func(x, true_a, true_b) # this is the \"true\" calculated value of y at each x point\n",
      "yn = y + sigma*np.random.normal(size=len(x)) # this adds a noise factor (gaussian with width sigma) to simulator measurement error.\n",
      "sy = zeros(50) + sigma;       # this is the uncertainty on each y measurement (sigma)\n",
      "yn = y + sigma*np.random.normal(size=len(x))\n",
      "errorbar(x,yn, sy, color=\"black\", fmt=\"o\")\n",
      "\n",
      "# this is the curve fitting step:\n",
      "approx = [10, 2]   # this is our initial guess for the parameters\n",
      "# now we perform a least squared fit of the function func to the data (x,yn+/-sy)\n",
      "popt, pcov = curve_fit(func, x, yn, p0=approx, sigma=sy)  \n",
      "\n",
      "# Plot the fitted value of the function\n",
      "yfit =func(x, popt[0], popt[1])\n",
      "plot(x,yfit, \"b\")\n",
      "\n",
      "# Compare to the \"true\" value:\n",
      "ytrue =func(x, true_a, true_b)\n",
      "plot(x,ytrue, \"r\", linestyle=\"--\")\n",
      "\n",
      "# Report fitted parameters:\n",
      "print \"a:  \", popt[0], \"+/-\", sqrt(pcov[0][0])\n",
      "print \"b:  \", popt[1], \"+/-\", sqrt(pcov[1][1])\n",
      "\n"
     ],
     "language": "python",
     "metadata": {},
     "outputs": [
      {
       "output_type": "stream",
       "stream": "stdout",
       "text": [
        "a:   12.999721849 +/- 1.69584032548\n",
        "b:   2.51625377047 +/- 0.0508744254079\n"
       ]
      },
      {
       "metadata": {},
       "output_type": "display_data",
       "png": "[encoded data removed]",
       "text": [
        "<matplotlib.figure.Figure at 0x1074bd310>"
       ]
      }
     ],
     "prompt_number": 3
    },
    {
     "cell_type": "code",
     "collapsed": false,
     "input": [
      "# Exercise:  Find the Higgs Boson!  (To be discussed in class)\n",
      "\n",
      "import itertools\n",
      "true_mh    = 125\n",
      "res_mh     = 3\n",
      "bkg_lambda = 50\n",
      "\n",
      "sig = random.normal(true_mh,res_mh, 100)\n",
      "bkg = random.exponential(bkg_lambda, 10000)\n",
      "mgg = []\n",
      "for x in itertools.chain(sig, bkg):\n",
      "    mgg.append(x)\n",
      "h,xe = histogram(mgg, 50, (0.0, 200.0))\n",
      "\n",
      "plot(xe, append(h,0), drawstyle='steps-post')\n",
      "    \n"
     ],
     "language": "python",
     "metadata": {},
     "outputs": [],
     "prompt_number": null
    },
    {
     "cell_type": "code",
     "collapsed": false,
     "input": [],
     "language": "python",
     "metadata": {},
     "outputs": [],
     "prompt_number": null
    }
   ],
   "metadata": {}
  }
 ]
}
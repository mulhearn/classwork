{
 "cells": [
  {
   "cell_type": "code",
   "execution_count": 1,
   "metadata": {},
   "outputs": [
    {
     "name": "stdout",
     "output_type": "stream",
     "text": [
      "Populating the interactive namespace from numpy and matplotlib\n"
     ]
    }
   ],
   "source": [
    "%pylab inline\n",
    "random.seed(2019)"
   ]
  },
  {
   "cell_type": "code",
   "execution_count": 2,
   "metadata": {},
   "outputs": [
    {
     "name": "stdout",
     "output_type": "stream",
     "text": [
      "simulating  5.787037037037037  days of running.\n",
      "[4.51741107e+11 1.96540253e+11 3.11984981e+11 ... 2.90347122e+11\n",
      " 1.42557615e+11 3.88187372e+11]\n"
     ]
    },
    {
     "data": {
      "text/plain": [
       "(1.0, 10000.0)"
      ]
     },
     "execution_count": 2,
     "metadata": {},
     "output_type": "execute_result"
    },
    {
     "data": {
      "image/png": "[encoded data removed]",
      "text/plain": [
       "<Figure size 432x288 with 1 Axes>"
      ]
     },
     "metadata": {
      "needs_background": "light"
     },
     "output_type": "display_data"
    }
   ],
   "source": [
    "R_MUON  = 10*1E-6   # muons / microsecond \n",
    "WINDOW  = 20        # microseconds\n",
    "F_DECAY = 0.0030      # fraction that decay\n",
    "N_MUON  = 5000000\n",
    "TAU     = 2.15\n",
    "\n",
    "HW_PED   = 10\n",
    "HW_SCALE = 0.0061  # microseconds\n",
    "HW_MAX   = 2**12 - 1\n",
    "HW_NOISE = 2.0\n",
    "HW_SYST  = 1.0\n",
    "\n",
    "TOTAL   =  N_MUON / R_MUON           # total time in micro-seconds\n",
    "DAYS    = TOTAL / 1E6 / 60.0 / 60.0 / 24.0 # total time in days\n",
    "print(\"simulating \", DAYS, \" days of running.\")\n",
    "\n",
    "\n",
    "times  = random.uniform(0,TOTAL,size=N_MUON)\n",
    "x      = random.uniform(0,1.0,size=N_MUON)\n",
    "decays = (x < F_DECAY)\n",
    "print(times)\n",
    "\n",
    "decay_times = times[decays]\n",
    "decay_times = decay_times + random.exponential(scale=TAU, size=size(decay_times))\n",
    "\n",
    "times = np.sort(np.append(times, decay_times))\n",
    "\n",
    "deltas = times[1:] - times[:-1]\n",
    "\n",
    "h,edges = np.histogram(deltas,bins=40,range=(0,20.0))\n",
    "unc = h**0.5\n",
    "cbins = (edges[1:] + edges[:-1])/2.0 \n",
    "plt.errorbar(cbins,h,yerr=unc,fmt=\"p\")\n",
    "plt.yscale('log')\n",
    "plt.ylim(1.0,1E4)\n",
    "\n",
    "\n",
    "\n"
   ]
  },
  {
   "cell_type": "code",
   "execution_count": 3,
   "metadata": {},
   "outputs": [
    {
     "name": "stdout",
     "output_type": "stream",
     "text": [
      "[4095. 4095. 4095. 4095. 4095. 4095. 4095. 4095. 4095. 4095.]\n"
     ]
    },
    {
     "data": {
      "image/png": "[encoded data removed]",
      "text/plain": [
       "<Figure size 432x288 with 1 Axes>"
      ]
     },
     "metadata": {
      "needs_background": "light"
     },
     "output_type": "display_data"
    }
   ],
   "source": [
    "hw_deltas = HW_PED + deltas / HW_SCALE + random.normal(HW_NOISE, size=size(deltas))\n",
    "\n",
    "hw_deltas[(hw_deltas > HW_MAX)] = HW_MAX\n",
    "\n",
    "\n",
    "h,edges = np.histogram(hw_deltas,bins=40,range=(0,HW_MAX+10))\n",
    "unc = h**0.5\n",
    "cbins = (edges[1:] + edges[:-1])/2.0 \n",
    "plt.errorbar(cbins,h,yerr=unc,fmt=\"p\")\n",
    "plt.yscale('log')\n",
    "#plt.ylim(1.0,1E4)\n",
    "\n",
    "print(hw_deltas[0:10])\n",
    "np.save(\"cosmics.npy\", hw_deltas)\n"
   ]
  },
  {
   "cell_type": "code",
   "execution_count": 4,
   "metadata": {},
   "outputs": [],
   "source": [
    "dts    = np.array([1.0,2.0,4.0, 8.0])\n",
    "for dt in dts:\n",
    "    hw = dt / HW_SCALE + HW_PED + random.normal(HW_SYST)    \n",
    "    samp = random.normal(loc=hw, scale=HW_NOISE, size=1000)\n",
    "    np.save(\"pulser_\"+str(int(dt))+\".npy\",samp)\n"
   ]
  },
  {
   "cell_type": "code",
   "execution_count": 5,
   "metadata": {},
   "outputs": [
    {
     "data": {
      "image/png": "[encoded data removed]",
      "text/plain": [
       "<Figure size 432x288 with 1 Axes>"
      ]
     },
     "metadata": {
      "needs_background": "light"
     },
     "output_type": "display_data"
    }
   ],
   "source": [
    "dts    = np.array([1.0,2.0,4.0, 8.0])\n",
    "for dt in dts:\n",
    "    samp  = np.load(\"pulser_\"+str(int(dt))+\".npy\")\n",
    "    h,edges = np.histogram(samp,bins=2**12,range=(0,HW_MAX/2))\n",
    "    cbins = (edges[1:] + edges[:-1])/2.0 \n",
    "    plt.plot(cbins,h,\"p\")\n",
    "    plt.yscale('log')\n",
    "    plt.ylim(10,10000)"
   ]
  },
  {
   "cell_type": "code",
   "execution_count": 6,
   "metadata": {},
   "outputs": [
    {
     "data": {
      "image/png": "[encoded data removed]",
      "text/plain": [
       "<Figure size 432x288 with 1 Axes>"
      ]
     },
     "metadata": {
      "needs_background": "light"
     },
     "output_type": "display_data"
    }
   ],
   "source": [
    "samp  = np.load(\"pulser_4.npy\")\n",
    "h,edges = np.histogram(samp,bins=15,range=(660,675))\n",
    "cbins = (edges[1:] + edges[:-1])/2.0 \n",
    "unc = h**0.5\n",
    "plt.errorbar(cbins,h,yerr=unc,fmt=\"kp\")\n",
    "plt.yscale('log')\n",
    "plt.ylim(1,1000)\n",
    "plt.ylabel(\"Events\")\n",
    "plt.xlabel(\"TDC Counts\")\n",
    "plt.title(\"Pulser Run - 4 us\")\n",
    "plt.savefig(\"pulser_4_raw.pdf\")"
   ]
  },
  {
   "cell_type": "code",
   "execution_count": 7,
   "metadata": {},
   "outputs": [
    {
     "name": "stdout",
     "output_type": "stream",
     "text": [
      "mean:   174.8642023633127  +/-  0.062220775816279536\n",
      "mean:   337.7025812466053  +/-  0.06586657115452357\n",
      "mean:   667.031337957149  +/-  0.06295394714627954\n",
      "mean:   1321.5241469992488  +/-  0.06432139204810107\n"
     ]
    }
   ],
   "source": [
    "from scipy import optimize\n",
    "\n",
    "def linear_func(x, a, b):\n",
    "    return a*x + b\n",
    "\n",
    "\n",
    "means  = np.array([])\n",
    "dmeans = np.array([])\n",
    "\n",
    "for dt in dts:\n",
    "    samp  = np.load(\"pulser_\"+str(int(dt))+\".npy\")\n",
    "    mean  = np.mean(samp)\n",
    "    dmean = np.var(samp)**0.5 / sqrt(size(samp))    \n",
    "    print(\"mean:  \", mean, \" +/- \", dmean)\n",
    "    means = np.append(means,mean)\n",
    "    dmeans = np.append(dmeans,dmean)\n",
    "    \n"
   ]
  },
  {
   "cell_type": "code",
   "execution_count": 8,
   "metadata": {},
   "outputs": [
    {
     "name": "stdout",
     "output_type": "stream",
     "text": [
      "hw_scale:   0.006102373310834299\n",
      "hw_ped:   10.787035322559797\n"
     ]
    },
    {
     "data": {
      "image/png": "[encoded data removed]",
      "text/plain": [
       "<Figure size 432x288 with 1 Axes>"
      ]
     },
     "metadata": {
      "needs_background": "light"
     },
     "output_type": "display_data"
    }
   ],
   "source": [
    "\n",
    "plt.errorbar(dts,means,yerr=dmeans,fmt=\"ko\")    \n",
    "\n",
    "par, cov = optimize.curve_fit(linear_func, dts, means, sigma=dmeans,absolute_sigma=True, p0=[1.0, 0.0])\n",
    "\n",
    "hw_scale = 1.0/par[0]\n",
    "hw_ped   = par[1]    \n",
    "\n",
    "xf = np.linspace(0,10,100)\n",
    "yf = linear_func(xf, par[0],par[1])\n",
    "plt.plot(xf,yf,\"--\",label=\"fit\")\n",
    "print(\"hw_scale:  \", hw_scale)\n",
    "print(\"hw_ped:  \", hw_ped)\n",
    "\n",
    "\n"
   ]
  },
  {
   "cell_type": "code",
   "execution_count": 9,
   "metadata": {},
   "outputs": [
    {
     "name": "stdout",
     "output_type": "stream",
     "text": [
      "[24.92339219 24.92339219 24.92339219 ... 24.92339219 24.92339219\n",
      " 24.92339219]\n",
      "measured muon lifetime:   2.1742889914281083 +/- 0.022568525232330675\n"
     ]
    },
    {
     "data": {
      "text/plain": [
       "Text(0.5,0,'Time [microseconds]')"
      ]
     },
     "execution_count": 9,
     "metadata": {},
     "output_type": "execute_result"
    },
    {
     "data": {
      "image/png": "[encoded data removed]",
      "text/plain": [
       "<Figure size 432x288 with 1 Axes>"
      ]
     },
     "metadata": {
      "needs_background": "light"
     },
     "output_type": "display_data"
    }
   ],
   "source": [
    "hw_deltas = np.load(\"cosmics.npy\")\n",
    "deltas = (hw_deltas - hw_ped) * hw_scale\n",
    "print(deltas)\n",
    "\n",
    "h,edges = np.histogram(deltas,bins=40,range=(0,20.0))\n",
    "unc = h**0.5\n",
    "cbins = (edges[1:] + edges[:-1])/2.0 \n",
    "plt.errorbar(cbins,h,yerr=unc,fmt=\"kp\",label=\"data\")\n",
    "plt.yscale('log')\n",
    "#plt.ylim(1.0,1E4)\n",
    "\n",
    "def exp_func(x, a, b, c):\n",
    "    return a*exp(-x/b) + c\n",
    "\n",
    "par, cov = optimize.curve_fit(exp_func, cbins,h, sigma=unc,absolute_sigma=True, p0=[1E3, 2.0,0])\n",
    "unc = (np.diag(cov))**0.5\n",
    "\n",
    "print(\"measured muon lifetime:  \", par[1], \"+/-\", unc[1])\n",
    "\n",
    "\n",
    "xf = np.linspace(0,20.0,100)\n",
    "yf = exp_func(xf,par[0],par[1],par[2])\n",
    "plt.plot(xf,yf,\"r--\",label=\"fit\")\n",
    "plt.legend()\n",
    "plt.ylabel(\"Events\")\n",
    "plt.xlabel(\"Time [microseconds]\")\n"
   ]
  },
  {
   "cell_type": "code",
   "execution_count": 10,
   "metadata": {},
   "outputs": [
    {
     "data": {
      "image/png": "[encoded data removed]",
      "text/plain": [
       "<Figure size 432x288 with 1 Axes>"
      ]
     },
     "metadata": {
      "needs_background": "light"
     },
     "output_type": "display_data"
    }
   ],
   "source": [
    "hw_deltas = np.load(\"cosmics.npy\")\n",
    "h,edges = np.histogram(hw_deltas,bins=50,range=(0,HW_MAX))\n",
    "unc = h**0.5\n",
    "cbins = (edges[1:] + edges[:-1])/2.0 \n",
    "plt.errorbar(cbins,h,yerr=unc,fmt=\"kp\",label=\"data\")\n",
    "plt.yscale('log')\n",
    "plt.ylabel(\"Events\")\n",
    "plt.xlabel(\"TDC Counts\")\n",
    "plt.title(\"Cosmic Run\")\n",
    "plt.savefig(\"cosmics_raw.pdf\")"
   ]
  },
  {
   "cell_type": "code",
   "execution_count": null,
   "metadata": {},
   "outputs": [],
   "source": []
  }
 ],
 "metadata": {
  "kernelspec": {
   "display_name": "Python 3",
   "language": "python",
   "name": "python3"
  },
  "language_info": {
   "codemirror_mode": {
    "name": "ipython",
    "version": 3
   },
   "file_extension": ".py",
   "mimetype": "text/x-python",
   "name": "python",
   "nbconvert_exporter": "python",
   "pygments_lexer": "ipython3",
   "version": "3.7.0"
  }
 },
 "nbformat": 4,
 "nbformat_minor": 2
}

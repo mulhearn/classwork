{
 "cells": [
  {
   "cell_type": "code",
   "execution_count": 1,
   "metadata": {},
   "outputs": [
    {
     "name": "stdout",
     "output_type": "stream",
     "text": [
      "Populating the interactive namespace from numpy and matplotlib\n"
     ]
    }
   ],
   "source": [
    "%pylab inline"
   ]
  },
  {
   "cell_type": "code",
   "execution_count": 2,
   "metadata": {},
   "outputs": [],
   "source": [
    "np.random.seed(2019)"
   ]
  },
  {
   "cell_type": "code",
   "execution_count": 3,
   "metadata": {},
   "outputs": [
    {
     "name": "stdout",
     "output_type": "stream",
     "text": [
      "[[0.90348221 0.39308051 0.62396996]\n",
      " [0.6378774  0.88049907 0.29917202]\n",
      " [0.70219827 0.90320616 0.88138193]\n",
      " [0.4057498  0.45244662 0.26707032]\n",
      " [0.16286487 0.8892147  0.14847623]]\n"
     ]
    }
   ],
   "source": [
    "nexp = 5\n",
    "ntry = 3\n",
    "x = np.random.uniform(size=(nexp,ntry))\n",
    "print(x)"
   ]
  },
  {
   "cell_type": "code",
   "execution_count": 4,
   "metadata": {},
   "outputs": [
    {
     "name": "stdout",
     "output_type": "stream",
     "text": [
      "[[0 1 0]\n",
      " [0 0 1]\n",
      " [0 0 0]\n",
      " [1 1 1]\n",
      " [1 0 1]]\n"
     ]
    }
   ],
   "source": [
    "eps = 0.5\n",
    "s = np.array((x < eps),dtype=int)\n",
    "print(s)"
   ]
  },
  {
   "cell_type": "code",
   "execution_count": 5,
   "metadata": {},
   "outputs": [
    {
     "name": "stdout",
     "output_type": "stream",
     "text": [
      "[1 1 0 3 2]\n"
     ]
    }
   ],
   "source": [
    "m = np.sum(s, axis=1)\n",
    "print(m)"
   ]
  },
  {
   "cell_type": "code",
   "execution_count": 6,
   "metadata": {},
   "outputs": [],
   "source": [
    "nexp = 1000\n",
    "ntry = 10\n",
    "eps  = 0.5\n",
    "x = np.random.uniform(size=(nexp,ntry))    \n",
    "s = np.array((x < eps),dtype=int)\n",
    "m = np.sum(s, axis=1)        "
   ]
  },
  {
   "cell_type": "code",
   "execution_count": 7,
   "metadata": {},
   "outputs": [
    {
     "name": "stdout",
     "output_type": "stream",
     "text": [
      "mean expected:     5.0\n",
      "mean simulated:    5.015\n",
      "var expected:      2.5\n",
      "var simulated:     2.3847750000000003\n"
     ]
    }
   ],
   "source": [
    "print(\"mean expected:    \", ntry * eps)\n",
    "print(\"mean simulated:   \", np.mean(m))\n",
    "print(\"var expected:     \", ntry * eps * (1.0 - eps))\n",
    "print(\"var simulated:    \", np.var(m))"
   ]
  },
  {
   "cell_type": "code",
   "execution_count": null,
   "metadata": {},
   "outputs": [],
   "source": []
  },
  {
   "cell_type": "code",
   "execution_count": 8,
   "metadata": {},
   "outputs": [],
   "source": [
    "def throw_binomial(nexp,ntry,eps,verbose=False,compare=False):\n",
    "    x = np.random.uniform(size=(nexp,ntry))    \n",
    "    if verbose: print(x) \n",
    "    s = np.array((x < eps),dtype=int)\n",
    "    if verbose: print(s)\n",
    "    m = np.sum(s, axis=1)\n",
    "    if verbose: print(m)\n",
    "    if compare:                \n",
    "        print(\"mean expected:    \", ntry * eps)\n",
    "        print(\"mean simulated:   \", np.mean(m))\n",
    "        print(\"var expected:     \", ntry * eps * (1.0 - eps))\n",
    "        print(\"var simulated:    \", np.var(m))            \n",
    "    return m"
   ]
  },
  {
   "cell_type": "code",
   "execution_count": 9,
   "metadata": {},
   "outputs": [
    {
     "name": "stdout",
     "output_type": "stream",
     "text": [
      "[[0.25034561 0.29559538 0.96306425]\n",
      " [0.66797756 0.77919331 0.25980222]\n",
      " [0.03155755 0.00825747 0.50265333]\n",
      " [0.39626862 0.09880622 0.82042356]\n",
      " [0.79845405 0.86174022 0.65251657]]\n",
      "[[1 1 0]\n",
      " [0 0 1]\n",
      " [1 1 0]\n",
      " [1 1 0]\n",
      " [0 0 0]]\n",
      "[2 1 2 2 0]\n",
      "mean expected:     5.0\n",
      "mean simulated:    4.925\n",
      "var expected:      2.5\n",
      "var simulated:     2.345375\n",
      "mean expected:     5.0\n",
      "mean simulated:    5.003\n",
      "var expected:      3.75\n",
      "var simulated:     3.670991\n"
     ]
    }
   ],
   "source": [
    "throw_binomial(nexp=5,ntry=3,eps=0.5,verbose=True)\n",
    "\n",
    "m = throw_binomial(nexp=1000,ntry=10,eps=0.5,compare=True)\n",
    "#m = throw_binomial(nexp=100000,ntry=10,eps=0.5,verbose=False)\n",
    "\n",
    "m = throw_binomial(nexp=1000,ntry=20,eps=0.25,compare=True)\n",
    "\n",
    "\n",
    "\n",
    "\n",
    "\n",
    "\n"
   ]
  },
  {
   "cell_type": "code",
   "execution_count": 10,
   "metadata": {},
   "outputs": [],
   "source": [
    "nexp = 1000\n",
    "ntry = 10\n",
    "eps  = 0.25\n",
    "m = throw_binomial(nexp=1000,ntry=10,eps=0.25)"
   ]
  },
  {
   "cell_type": "code",
   "execution_count": 11,
   "metadata": {},
   "outputs": [
    {
     "name": "stdout",
     "output_type": "stream",
     "text": [
      "counts:      [ 65 172 284 269 122  64  19   4   1   0   0]\n",
      "total:       1000\n",
      "bin edges:   [ 0.  1.  2.  3.  4.  5.  6.  7.  8.  9. 10. 11.]\n"
     ]
    }
   ],
   "source": [
    "counts,edges = np.histogram(m,bins=11,range=(0,11))\n",
    "print(\"counts:     \", counts)\n",
    "print(\"total:      \", np.sum(counts))\n",
    "print(\"bin edges:  \", edges)"
   ]
  },
  {
   "cell_type": "code",
   "execution_count": 12,
   "metadata": {},
   "outputs": [
    {
     "name": "stdout",
     "output_type": "stream",
     "text": [
      "edges[:-1]:   [ 0.  1.  2.  3.  4.  5.  6.  7.  8.  9. 10.]\n"
     ]
    },
    {
     "data": {
      "image/png": "[encoded data removed]",
      "text/plain": [
       "<Figure size 432x288 with 1 Axes>"
      ]
     },
     "metadata": {
      "needs_background": "light"
     },
     "output_type": "display_data"
    }
   ],
   "source": [
    "plt.plot(edges[:-1],counts,\"ko\")\n",
    "plt.xlabel(\"Outcome\")\n",
    "plt.ylabel(\"Occurances\")\n",
    "print(\"edges[:-1]:  \", edges[:-1])"
   ]
  },
  {
   "cell_type": "code",
   "execution_count": 13,
   "metadata": {},
   "outputs": [
    {
     "data": {
      "text/plain": [
       "Text(0,0.5,'Occurances')"
      ]
     },
     "execution_count": 13,
     "metadata": {},
     "output_type": "execute_result"
    },
    {
     "data": {
      "image/png": "[encoded data removed]",
      "text/plain": [
       "<Figure size 432x288 with 1 Axes>"
      ]
     },
     "metadata": {
      "needs_background": "light"
     },
     "output_type": "display_data"
    }
   ],
   "source": [
    "errs = counts**0.5\n",
    "plt.errorbar(edges[:-1],counts,yerr=errs,fmt=\"ko\")\n",
    "plt.xlabel(\"Outcome\")\n",
    "plt.ylabel(\"Occurances\")"
   ]
  },
  {
   "cell_type": "code",
   "execution_count": 14,
   "metadata": {
    "scrolled": true
   },
   "outputs": [
    {
     "data": {
      "text/plain": [
       "Text(0.5,1,'$\\\\epsilon=0.25$')"
      ]
     },
     "execution_count": 14,
     "metadata": {},
     "output_type": "execute_result"
    },
    {
     "data": {
      "image/png": "[encoded data removed]",
      "text/plain": [
       "<Figure size 432x288 with 1 Axes>"
      ]
     },
     "metadata": {
      "needs_background": "light"
     },
     "output_type": "display_data"
    }
   ],
   "source": [
    "from scipy.stats import binom\n",
    "errs = counts**0.5\n",
    "plt.errorbar(edges[:-1],counts,yerr=errs,fmt=\"ko\",\n",
    "             label=\"Simulated\")\n",
    "plt.xlabel(\"Outcome\")\n",
    "plt.ylabel(\"Occurances\")\n",
    "xpred = edges[:-1]\n",
    "ypred = nexp * binom.pmf(xpred, ntry,eps) \n",
    "plt.plot(xpred, ypred,\"b-\",label=\"Binomial\")\n",
    "plt.legend()\n",
    "plt.title(\"$\\epsilon=0.25$\")"
   ]
  },
  {
   "cell_type": "code",
   "execution_count": null,
   "metadata": {},
   "outputs": [],
   "source": []
  },
  {
   "cell_type": "code",
   "execution_count": 15,
   "metadata": {},
   "outputs": [
    {
     "name": "stdout",
     "output_type": "stream",
     "text": [
      "0.002\n"
     ]
    }
   ],
   "source": [
    "lamb = 2.0  # new parameter of Poisson distirbution\n",
    "nexp = 1000\n",
    "ntry = 1000\n",
    "eps  = lamb/ntry\n",
    "print(eps)"
   ]
  },
  {
   "cell_type": "code",
   "execution_count": 16,
   "metadata": {},
   "outputs": [],
   "source": [
    "k = throw_binomial(nexp=nexp,ntry=ntry,eps=eps)"
   ]
  },
  {
   "cell_type": "code",
   "execution_count": 17,
   "metadata": {},
   "outputs": [
    {
     "data": {
      "image/png": "[encoded data removed]",
      "text/plain": [
       "<Figure size 432x288 with 1 Axes>"
      ]
     },
     "metadata": {
      "needs_background": "light"
     },
     "output_type": "display_data"
    }
   ],
   "source": [
    "from scipy.stats import poisson\n",
    "counts,edges = np.histogram(k,bins=15,range=(0,15))\n",
    "errs = counts**0.5\n",
    "plt.errorbar(edges[:-1],counts,yerr=errs,fmt=\"ko\",label=\"Simulated\")\n",
    "plt.xlabel(\"Outcome\")\n",
    "plt.ylabel(\"Occurances\")\n",
    "xpred = edges[:-1]\n",
    "ypred = nexp * poisson.pmf(xpred, lamb) \n",
    "plt.plot(xpred, ypred,\"b-\",label=\"Poisson\")\n",
    "plt.legend()\n",
    "plt.title(\"$\\lambda=2.0$\")\n",
    "plt.savefig(\"poisson.pdf\")"
   ]
  },
  {
   "cell_type": "code",
   "execution_count": 18,
   "metadata": {},
   "outputs": [
    {
     "name": "stdout",
     "output_type": "stream",
     "text": [
      "0.01\n"
     ]
    }
   ],
   "source": [
    "lamb = 100.0  # new parameter of Poisson distirbution\n",
    "nexp = 10000\n",
    "ntry = 10000\n",
    "eps  = lamb/ntry\n",
    "print(eps)"
   ]
  },
  {
   "cell_type": "code",
   "execution_count": 19,
   "metadata": {},
   "outputs": [],
   "source": [
    "x = throw_binomial(nexp=nexp,ntry=ntry,eps=eps)"
   ]
  },
  {
   "cell_type": "code",
   "execution_count": 20,
   "metadata": {},
   "outputs": [
    {
     "data": {
      "image/png": "[encoded data removed]",
      "text/plain": [
       "<Figure size 432x288 with 1 Axes>"
      ]
     },
     "metadata": {
      "needs_background": "light"
     },
     "output_type": "display_data"
    }
   ],
   "source": [
    "from scipy.stats import norm\n",
    "counts,edges = np.histogram(x,bins=60,range=(70,130))\n",
    "errs = counts**0.5\n",
    "plt.errorbar(edges[:-1],counts,yerr=errs,fmt=\"ko\",label=\"Simulated\")\n",
    "plt.xlabel(\"Outcome\")\n",
    "plt.ylabel(\"Occurances\")\n",
    "xpred = edges[:-1]\n",
    "ypred = nexp * norm.pdf(xpred, loc=lamb, scale=lamb**0.5) \n",
    "plt.plot(xpred, ypred,\"b-\",label=\"Gaussian\")\n",
    "plt.legend()\n",
    "plt.savefig(\"gauss_finebins.pdf\")"
   ]
  },
  {
   "cell_type": "code",
   "execution_count": 21,
   "metadata": {},
   "outputs": [
    {
     "data": {
      "image/png": "[encoded data removed]",
      "text/plain": [
       "<Figure size 432x288 with 1 Axes>"
      ]
     },
     "metadata": {
      "needs_background": "light"
     },
     "output_type": "display_data"
    }
   ],
   "source": [
    "from scipy.stats import norm\n",
    "counts,edges = np.histogram(x,bins=20,range=(70,130))\n",
    "errs = counts**0.5\n",
    "cbins = (edges[:-1]+edges[1:]-1)/2.0\n",
    "plt.errorbar(cbins,counts,yerr=errs,fmt=\"ko\",label=\"Simulated\")\n",
    "plt.xlabel(\"Outcome\")\n",
    "plt.ylabel(\"Occurances\")\n",
    "xpred = cbins\n",
    "ypred = 3*nexp * norm.pdf(xpred, loc=lamb, scale=lamb**0.5) \n",
    "plt.plot(xpred, ypred,\"b-\",label=\"Gaussian\")\n",
    "plt.legend()\n",
    "plt.savefig(\"gauss.pdf\")"
   ]
  },
  {
   "cell_type": "code",
   "execution_count": 22,
   "metadata": {},
   "outputs": [
    {
     "data": {
      "text/plain": [
       "[<matplotlib.lines.Line2D at 0x1a14fa4b00>]"
      ]
     },
     "execution_count": 22,
     "metadata": {},
     "output_type": "execute_result"
    },
    {
     "data": {
      "image/png": "[encoded data removed]",
      "text/plain": [
       "<Figure size 432x288 with 1 Axes>"
      ]
     },
     "metadata": {
      "needs_background": "light"
     },
     "output_type": "display_data"
    }
   ],
   "source": [
    "from scipy.stats import norm\n",
    "mean  = 10.0\n",
    "sigma =  2.0\n",
    "x = np.linspace(5.0,15.0,100)\n",
    "y = norm.pdf(x, loc=mean, scale=sigma) \n",
    "plt.xlabel(\"x\")\n",
    "plt.ylabel(\"probability density\")\n",
    "plt.plot(x,y,\"b-\")"
   ]
  },
  {
   "cell_type": "code",
   "execution_count": null,
   "metadata": {},
   "outputs": [],
   "source": []
  },
  {
   "cell_type": "code",
   "execution_count": null,
   "metadata": {},
   "outputs": [],
   "source": []
  },
  {
   "cell_type": "code",
   "execution_count": null,
   "metadata": {},
   "outputs": [],
   "source": []
  },
  {
   "cell_type": "code",
   "execution_count": null,
   "metadata": {},
   "outputs": [],
   "source": []
  },
  {
   "cell_type": "code",
   "execution_count": null,
   "metadata": {},
   "outputs": [],
   "source": []
  }
 ],
 "metadata": {
  "kernelspec": {
   "display_name": "Python 3",
   "language": "python",
   "name": "python3"
  },
  "language_info": {
   "codemirror_mode": {
    "name": "ipython",
    "version": 3
   },
   "file_extension": ".py",
   "mimetype": "text/x-python",
   "name": "python",
   "nbconvert_exporter": "python",
   "pygments_lexer": "ipython3",
   "version": "3.7.0"
  }
 },
 "nbformat": 4,
 "nbformat_minor": 2
}

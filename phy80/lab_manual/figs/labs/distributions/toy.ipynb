{
 "cells": [
  {
   "cell_type": "code",
   "execution_count": 1,
   "metadata": {},
   "outputs": [
    {
     "name": "stdout",
     "output_type": "stream",
     "text": [
      "Populating the interactive namespace from numpy and matplotlib\n"
     ]
    }
   ],
   "source": [
    "%pylab inline"
   ]
  },
  {
   "cell_type": "code",
   "execution_count": 2,
   "metadata": {},
   "outputs": [
    {
     "name": "stdout",
     "output_type": "stream",
     "text": [
      "[[0.49265679 0.45896151 0.84823452]\n",
      " [0.6401883  0.14801434 0.83767891]\n",
      " [0.94587563 0.42482651 0.1403022 ]\n",
      " [0.04041551 0.52112925 0.09591703]\n",
      " [0.12505869 0.69839595 0.78036953]]\n"
     ]
    }
   ],
   "source": [
    "nexp = 5\n",
    "ntry = 3\n",
    "x = np.random.uniform(size=(nexp,ntry))\n",
    "print(x)"
   ]
  },
  {
   "cell_type": "code",
   "execution_count": 3,
   "metadata": {},
   "outputs": [
    {
     "name": "stdout",
     "output_type": "stream",
     "text": [
      "[[1 1 0]\n",
      " [0 1 0]\n",
      " [0 1 1]\n",
      " [1 0 1]\n",
      " [1 0 0]]\n"
     ]
    }
   ],
   "source": [
    "eps = 0.5\n",
    "s = np.array((x < eps),dtype=int)\n",
    "print(s)"
   ]
  },
  {
   "cell_type": "code",
   "execution_count": 4,
   "metadata": {},
   "outputs": [
    {
     "name": "stdout",
     "output_type": "stream",
     "text": [
      "[2 1 2 2 1]\n"
     ]
    }
   ],
   "source": [
    "m = np.sum(s, axis=1)\n",
    "print(m)"
   ]
  },
  {
   "cell_type": "code",
   "execution_count": 5,
   "metadata": {},
   "outputs": [],
   "source": [
    "nexp = 1000\n",
    "ntry = 10\n",
    "eps  = 0.5\n",
    "x = np.random.uniform(size=(nexp,ntry))    \n",
    "s = np.array((x < eps),dtype=int)\n",
    "m = np.sum(s, axis=1)        "
   ]
  },
  {
   "cell_type": "code",
   "execution_count": 6,
   "metadata": {},
   "outputs": [
    {
     "name": "stdout",
     "output_type": "stream",
     "text": [
      "mean expected:     5.0\n",
      "mean simulated:    4.926\n",
      "var expected:      2.5\n",
      "var simulated:     2.3665240000000005\n"
     ]
    }
   ],
   "source": [
    "print(\"mean expected:    \", ntry * eps)\n",
    "print(\"mean simulated:   \", np.mean(m))\n",
    "print(\"var expected:     \", ntry * eps * (1.0 - eps))\n",
    "print(\"var simulated:    \", np.var(m))"
   ]
  },
  {
   "cell_type": "code",
   "execution_count": null,
   "metadata": {},
   "outputs": [],
   "source": []
  },
  {
   "cell_type": "code",
   "execution_count": 7,
   "metadata": {},
   "outputs": [],
   "source": [
    "def throw_binomial(nexp,ntry,eps,verbose=False,compare=False):\n",
    "    x = np.random.uniform(size=(nexp,ntry))    \n",
    "    if verbose: print(x) \n",
    "    s = np.array((x < eps),dtype=int)\n",
    "    if verbose: print(s)\n",
    "    m = np.sum(s, axis=1)\n",
    "    if verbose: print(m)\n",
    "    if compare:                \n",
    "        print(\"mean expected:    \", ntry * eps)\n",
    "        print(\"mean simulated:   \", np.mean(m))\n",
    "        print(\"var expected:     \", ntry * eps * (1.0 - eps))\n",
    "        print(\"var simulated:    \", np.var(m))            \n",
    "    return m"
   ]
  },
  {
   "cell_type": "code",
   "execution_count": 8,
   "metadata": {},
   "outputs": [
    {
     "name": "stdout",
     "output_type": "stream",
     "text": [
      "[[0.65563071 0.3686149  0.33103767]\n",
      " [0.07585325 0.55278224 0.17656391]\n",
      " [0.19266154 0.28868352 0.44468556]\n",
      " [0.21106615 0.15541957 0.13530498]\n",
      " [0.51536381 0.18650511 0.93770397]]\n",
      "[[0 1 1]\n",
      " [1 0 1]\n",
      " [1 1 1]\n",
      " [1 1 1]\n",
      " [0 1 0]]\n",
      "[2 2 3 3 1]\n",
      "mean expected:     5.0\n",
      "mean simulated:    5.009\n",
      "var expected:      2.5\n",
      "var simulated:     2.496919000000001\n",
      "mean expected:     5.0\n",
      "mean simulated:    5.085\n",
      "var expected:      3.75\n",
      "var simulated:     3.6517749999999998\n"
     ]
    }
   ],
   "source": [
    "throw_binomial(nexp=5,ntry=3,eps=0.5,verbose=True)\n",
    "\n",
    "m = throw_binomial(nexp=1000,ntry=10,eps=0.5,compare=True)\n",
    "#m = throw_binomial(nexp=100000,ntry=10,eps=0.5,verbose=False)\n",
    "\n",
    "m = throw_binomial(nexp=1000,ntry=20,eps=0.25,compare=True)\n",
    "\n",
    "\n",
    "\n",
    "\n",
    "\n",
    "\n"
   ]
  },
  {
   "cell_type": "code",
   "execution_count": 25,
   "metadata": {},
   "outputs": [],
   "source": [
    "nexp = 1000\n",
    "ntry = 10\n",
    "eps  = 0.25\n",
    "m = throw_binomial(nexp=1000,ntry=10,eps=0.25)"
   ]
  },
  {
   "cell_type": "code",
   "execution_count": 26,
   "metadata": {},
   "outputs": [
    {
     "name": "stdout",
     "output_type": "stream",
     "text": [
      "counts:      [ 51 181 286 259 157  55   8   3   0   0   0]\n",
      "total:       1000\n",
      "bin edges:   [ 0.  1.  2.  3.  4.  5.  6.  7.  8.  9. 10. 11.]\n"
     ]
    }
   ],
   "source": [
    "counts,bines = np.histogram(m,bins=11,range=(0,11))\n",
    "print(\"counts:     \", counts)\n",
    "print(\"total:      \", np.sum(counts))\n",
    "print(\"bin edges:  \", bines)"
   ]
  },
  {
   "cell_type": "code",
   "execution_count": 27,
   "metadata": {},
   "outputs": [
    {
     "name": "stdout",
     "output_type": "stream",
     "text": [
      "bines[:-1]:   [ 0.  1.  2.  3.  4.  5.  6.  7.  8.  9. 10.]\n"
     ]
    },
    {
     "data": {
      "image/png": "[encoded data removed]",
      "text/plain": [
       "<Figure size 432x288 with 1 Axes>"
      ]
     },
     "metadata": {
      "needs_background": "light"
     },
     "output_type": "display_data"
    }
   ],
   "source": [
    "plt.plot(bines[:-1],counts,\"ko\")\n",
    "plt.xlabel(\"Outcome\")\n",
    "plt.ylabel(\"Occurances\")\n",
    "print(\"bines[:-1]:  \", bines[:-1])"
   ]
  },
  {
   "cell_type": "code",
   "execution_count": 28,
   "metadata": {},
   "outputs": [
    {
     "data": {
      "text/plain": [
       "<matplotlib.legend.Legend at 0x1a200288d0>"
      ]
     },
     "execution_count": 28,
     "metadata": {},
     "output_type": "execute_result"
    },
    {
     "data": {
      "image/png": "[encoded data removed]",
      "text/plain": [
       "<Figure size 432x288 with 1 Axes>"
      ]
     },
     "metadata": {
      "needs_background": "light"
     },
     "output_type": "display_data"
    }
   ],
   "source": [
    "from scipy.stats import binom\n",
    "plt.plot(bines[:-1],counts,\"ko\",label=\"Simulated\")\n",
    "plt.xlabel(\"Outcome\")\n",
    "plt.ylabel(\"Occurances\")\n",
    "xpred = bines[:-1]\n",
    "ypred = nexp * binom.pmf(xpred, ntry,eps) \n",
    "plt.plot(xpred, ypred,\"b-\",label=\"Binomial\")\n",
    "plt.legend()"
   ]
  },
  {
   "cell_type": "code",
   "execution_count": 13,
   "metadata": {},
   "outputs": [
    {
     "name": "stdout",
     "output_type": "stream",
     "text": [
      "0.0002\n"
     ]
    }
   ],
   "source": [
    "lamb = 2.0  # new parameter of Poisson distirbution\n",
    "nexp = 10000\n",
    "ntry = 10000\n",
    "eps  = lamb/ntry\n",
    "print(eps)"
   ]
  },
  {
   "cell_type": "code",
   "execution_count": 14,
   "metadata": {},
   "outputs": [],
   "source": [
    "k = throw_binomial(nexp=nexp,ntry=ntry,eps=eps)"
   ]
  },
  {
   "cell_type": "code",
   "execution_count": 29,
   "metadata": {},
   "outputs": [
    {
     "data": {
      "text/plain": [
       "<matplotlib.legend.Legend at 0x1a200d4828>"
      ]
     },
     "execution_count": 29,
     "metadata": {},
     "output_type": "execute_result"
    },
    {
     "data": {
      "image/png": "[encoded data removed]",
      "text/plain": [
       "<Figure size 432x288 with 1 Axes>"
      ]
     },
     "metadata": {
      "needs_background": "light"
     },
     "output_type": "display_data"
    }
   ],
   "source": [
    "from scipy.stats import poisson\n",
    "counts,bines = np.histogram(k,bins=11,range=(0,11))\n",
    "plt.plot(bines[:-1],counts,\"ko\",label=\"Simulated\")\n",
    "plt.xlabel(\"Outcome\")\n",
    "plt.ylabel(\"Occurances\")\n",
    "xpred = bines[:-1]\n",
    "ypred = nexp * poisson.pmf(xpred, lamb) \n",
    "plt.plot(xpred, ypred,\"b-\",label=\"Poisson\")\n",
    "plt.legend()"
   ]
  },
  {
   "cell_type": "code",
   "execution_count": 34,
   "metadata": {},
   "outputs": [
    {
     "name": "stdout",
     "output_type": "stream",
     "text": [
      "0.01\n"
     ]
    }
   ],
   "source": [
    "lamb = 100.0  # new parameter of Poisson distirbution\n",
    "nexp = 10000\n",
    "ntry = 10000\n",
    "eps  = lamb/ntry\n",
    "print(eps)"
   ]
  },
  {
   "cell_type": "code",
   "execution_count": 35,
   "metadata": {},
   "outputs": [],
   "source": [
    "x = throw_binomial(nexp=nexp,ntry=ntry,eps=eps)"
   ]
  },
  {
   "cell_type": "code",
   "execution_count": 41,
   "metadata": {},
   "outputs": [
    {
     "name": "stdout",
     "output_type": "stream",
     "text": [
      "[ 70.  71.  72.  73.  74.  75.  76.  77.  78.  79.  80.  81.  82.  83.\n",
      "  84.  85.  86.  87.  88.  89.  90.  91.  92.  93.  94.  95.  96.  97.\n",
      "  98.  99. 100. 101. 102. 103. 104. 105. 106. 107. 108. 109. 110. 111.\n",
      " 112. 113. 114. 115. 116. 117. 118. 119. 120. 121. 122. 123. 124. 125.\n",
      " 126. 127. 128. 129. 130.]\n"
     ]
    },
    {
     "data": {
      "text/plain": [
       "<matplotlib.legend.Legend at 0x1a201ad048>"
      ]
     },
     "execution_count": 41,
     "metadata": {},
     "output_type": "execute_result"
    },
    {
     "data": {
      "image/png": "[encoded data removed]",
      "text/plain": [
       "<Figure size 432x288 with 1 Axes>"
      ]
     },
     "metadata": {
      "needs_background": "light"
     },
     "output_type": "display_data"
    }
   ],
   "source": [
    "from scipy.stats import norm\n",
    "counts,bines = np.histogram(x,bins=60,range=(70,130))\n",
    "plt.plot(bines[:-1],counts,\"ko\",label=\"Simulated\")\n",
    "plt.xlabel(\"Outcome\")\n",
    "plt.ylabel(\"Occurances\")\n",
    "xpred = bines[:-1]\n",
    "ypred = nexp * norm.pdf(xpred, loc=lamb, scale=lamb**0.5) \n",
    "plt.plot(xpred, ypred,\"b-\",label=\"Gaussian\")\n",
    "plt.legend()"
   ]
  },
  {
   "cell_type": "code",
   "execution_count": 30,
   "metadata": {},
   "outputs": [],
   "source": [
    "norm.pdf?"
   ]
  },
  {
   "cell_type": "code",
   "execution_count": 40,
   "metadata": {},
   "outputs": [
    {
     "data": {
      "text/plain": [
       "[<matplotlib.lines.Line2D at 0x1a20923630>]"
      ]
     },
     "execution_count": 40,
     "metadata": {},
     "output_type": "execute_result"
    },
    {
     "data": {
      "image/png": "[encoded data removed]",
      "text/plain": [
       "<Figure size 432x288 with 1 Axes>"
      ]
     },
     "metadata": {
      "needs_background": "light"
     },
     "output_type": "display_data"
    }
   ],
   "source": [
    "from scipy.stats import norm\n",
    "mean  = 10.0\n",
    "sigma =  2.0\n",
    "x = np.linspace(5.0,15.0,100)\n",
    "y = norm.pdf(x, loc=mean, scale=sigma) \n",
    "plt.xlabel(\"x\")\n",
    "plt.ylabel(\"probability density\")\n",
    "plt.plot(x,y,\"b-\")"
   ]
  },
  {
   "cell_type": "code",
   "execution_count": null,
   "metadata": {},
   "outputs": [],
   "source": []
  },
  {
   "cell_type": "code",
   "execution_count": null,
   "metadata": {},
   "outputs": [],
   "source": []
  },
  {
   "cell_type": "code",
   "execution_count": null,
   "metadata": {},
   "outputs": [],
   "source": []
  },
  {
   "cell_type": "code",
   "execution_count": null,
   "metadata": {},
   "outputs": [],
   "source": []
  }
 ],
 "metadata": {
  "kernelspec": {
   "display_name": "Python 3",
   "language": "python",
   "name": "python3"
  },
  "language_info": {
   "codemirror_mode": {
    "name": "ipython",
    "version": 3
   },
   "file_extension": ".py",
   "mimetype": "text/x-python",
   "name": "python",
   "nbconvert_exporter": "python",
   "pygments_lexer": "ipython3",
   "version": "3.7.0"
  }
 },
 "nbformat": 4,
 "nbformat_minor": 2
}

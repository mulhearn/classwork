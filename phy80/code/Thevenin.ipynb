{
 "cells": [
  {
   "cell_type": "code",
   "execution_count": 1,
   "metadata": {
    "collapsed": false
   },
   "outputs": [
    {
     "name": "stdout",
     "output_type": "stream",
     "text": [
      "Populating the interactive namespace from numpy and matplotlib\n"
     ]
    }
   ],
   "source": [
    "%pylab inline"
   ]
  },
  {
   "cell_type": "code",
   "execution_count": null,
   "metadata": {
    "collapsed": true
   },
   "outputs": [],
   "source": [
    "vth = 8.0 # volts\n",
    "rth = 12.0 # kOhms\n",
    "v = np.arange(0,9,0.1)\n",
    "i = (vth - v)/rth\n",
    "plot(v,i,\"k-\",label=\"TE circuit\")\n",
    "ra = 1\n",
    "rb = 5\n",
    "rc = 20\n",
    "ia = v/ra\n",
    "ib = v/rb\n",
    "ic = v/rc\n",
    "V = [0.52,2.3,5.0]\n",
    "I = [0.62,0.5,0.25]"
   ]
  },
  {
   "cell_type": "code",
   "execution_count": 35,
   "metadata": {
    "collapsed": false
   },
   "outputs": [
    {
     "data": {
      "text/plain": [
       "<matplotlib.text.Text at 0x113849690>"
      ]
     },
     "execution_count": 35,
     "metadata": {},
     "output_type": "execute_result"
    },
    {
     "data": {
      "image/png": "[encoded data removed]",
      "text/plain": [
       "<matplotlib.figure.Figure at 0x114749050>"
      ]
     },
     "metadata": {},
     "output_type": "display_data"
    }
   ],
   "source": [
    "plot(v,i,\"k-\",label=\"TE circuit\")\n",
    "plot(v,ia,\"r--\",label=\"1 kOhm\")\n",
    "plot(v,ib,\"g--\",label=\"5 kOhm\")\n",
    "plot(v,ic,\"b--\",label=\"20 kOhm\")\n",
    "plt.plot(V,I,\"o\",label=\"data\")\n",
    "plt.legend(frameon=False,numpoints=1)\n",
    "plt.xlabel(\"V [volts]\")\n",
    "plt.ylabel(\"I [mA]\")\n",
    "plt.ylim(0,1)\n",
    "plt.title(\"Thevenin Equivalent Circuits\")\n"
   ]
  },
  {
   "cell_type": "code",
   "execution_count": null,
   "metadata": {
    "collapsed": true
   },
   "outputs": [],
   "source": []
  },
  {
   "cell_type": "code",
   "execution_count": null,
   "metadata": {
    "collapsed": true
   },
   "outputs": [],
   "source": []
  }
 ],
 "metadata": {
  "kernelspec": {
   "display_name": "Python 2",
   "language": "python",
   "name": "python2"
  },
  "language_info": {
   "codemirror_mode": {
    "name": "ipython",
    "version": 2
   },
   "file_extension": ".py",
   "mimetype": "text/x-python",
   "name": "python",
   "nbconvert_exporter": "python",
   "pygments_lexer": "ipython2",
   "version": "2.7.13"
  }
 },
 "nbformat": 4,
 "nbformat_minor": 0
}

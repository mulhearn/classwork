{
 "cells": [
  {
   "cell_type": "code",
   "execution_count": null,
   "id": "40496ba1",
   "metadata": {},
   "outputs": [],
   "source": [
    "%pylab inline"
   ]
  },
  {
   "cell_type": "code",
   "execution_count": null,
   "id": "73425ece",
   "metadata": {},
   "outputs": [],
   "source": [
    "# System of Units:\n",
    "# Position:  a = 1\n",
    "# Energy:   E0 = hbar^2 / (2 m a^2)\n",
    "\n",
    "# Potential V(x) in units of E0\n",
    "def V(x):\n",
    "    return 0\n",
    "\n",
    "# TISE as two first order diff eqs:\n",
    "# Y = (psi, phi)\n",
    "# F = dY/dx = (dpsi/dx, dphi/dx)\n",
    "# dpsi/dx = phi\n",
    "# dphi/dx = (V-E) psi\n",
    "def F(Y,x,E):\n",
    "    psi = Y[0]\n",
    "    phi = Y[1]\n",
    "    dpsi_dx = phi\n",
    "    dphi_dx = (V(x)-E)*psi\n",
    "    F = np.array([dpsi_dx, dphi_dx], float)\n",
    "    return F\n",
    "\n",
    "# Numerical integration (using Runge-Kutta Order 1)\n",
    "def tise_rk1(E,psi0,phi0,a,b,h):\n",
    "    Y = np.array([psi0, phi0], float)\n",
    "    X   = np.arange(a,b,h, float)\n",
    "    PSI = np.array([psi0], float)\n",
    "    for x in X:\n",
    "        # 1st order Runge-Kutta:\n",
    "        K1 = h*F(Y,x,E)\n",
    "        Y += K1\n",
    "        PSI = append(PSI,Y[0])\n",
    "    X = np.append(X,b)\n",
    "    return X,PSI\n",
    "\n",
    "X,PSI = tise_rk1(E=20,psi0=1,phi0=0,a=0,b=0.5,h=0.01)\n",
    "print(\"psi(b) = \", PSI[-1])\n",
    "\n",
    "plt.plot(X,PSI,\"b\")\n",
    "plt.axhline(c=\"k\")\n",
    "plt.axvline(x=0.5, c=\"k\")\n",
    "plt.ylim(-1.5,1.5)\n",
    "plt.xlabel(\"x\")\n",
    "plt.ylabel(\"psi(x)\")"
   ]
  },
  {
   "cell_type": "code",
   "execution_count": null,
   "id": "a7df984e",
   "metadata": {},
   "outputs": [],
   "source": []
  },
  {
   "cell_type": "code",
   "execution_count": null,
   "id": "725224d4",
   "metadata": {},
   "outputs": [],
   "source": []
  },
  {
   "cell_type": "code",
   "execution_count": null,
   "id": "1c6fe97a",
   "metadata": {},
   "outputs": [],
   "source": []
  }
 ],
 "metadata": {
  "kernelspec": {
   "display_name": "Python 3 (ipykernel)",
   "language": "python",
   "name": "python3"
  },
  "language_info": {
   "codemirror_mode": {
    "name": "ipython",
    "version": 3
   },
   "file_extension": ".py",
   "mimetype": "text/x-python",
   "name": "python",
   "nbconvert_exporter": "python",
   "pygments_lexer": "ipython3",
   "version": "3.9.7"
  }
 },
 "nbformat": 4,
 "nbformat_minor": 5
}
